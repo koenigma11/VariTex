{
 "cells": [
  {
   "cell_type": "code",
   "execution_count": 1,
   "id": "aedd9773",
   "metadata": {},
   "outputs": [],
   "source": [
    "import numpy as np"
   ]
  },
  {
   "cell_type": "code",
   "execution_count": 67,
   "id": "bfbdbf7a",
   "metadata": {},
   "outputs": [],
   "source": [
    "pcalatentpath = \"/home/matthias/ETH/Thesis/VariTexLocal/datasets/pcaLatents.npy\"\n",
    "pcas = np.load(pcalatentpath)"
   ]
  },
  {
   "cell_type": "code",
   "execution_count": 68,
   "id": "6acd84ad",
   "metadata": {},
   "outputs": [
    {
     "name": "stdout",
     "output_type": "stream",
     "text": [
      "(70000, 256)\n",
      "float64\n"
     ]
    }
   ],
   "source": [
    "print(pcas.shape)\n",
    "print(pcas.dtype)"
   ]
  },
  {
   "cell_type": "code",
   "execution_count": 69,
   "id": "3254494c",
   "metadata": {},
   "outputs": [
    {
     "name": "stdout",
     "output_type": "stream",
     "text": [
      "1845.3289777937412\n"
     ]
    }
   ],
   "source": [
    "print(pcas[0,0])"
   ]
  },
  {
   "cell_type": "code",
   "execution_count": 70,
   "id": "9aea772f",
   "metadata": {},
   "outputs": [
    {
     "name": "stdout",
     "output_type": "stream",
     "text": [
      "1845.329\n"
     ]
    }
   ],
   "source": [
    "pcas = pcas.astype('float32')\n",
    "print(pcas[0,0])"
   ]
  },
  {
   "cell_type": "code",
   "execution_count": 21,
   "id": "d6ce0542",
   "metadata": {},
   "outputs": [],
   "source": [
    "import torch\n",
    "import torch.nn\n",
    "from torch.nn import Embedding, Parameter"
   ]
  },
  {
   "cell_type": "code",
   "execution_count": 73,
   "id": "09cebcae",
   "metadata": {},
   "outputs": [],
   "source": [
    "#Batch here should just be a list of indices here\n",
    "def project_l2_ball(batch):\n",
    "    \"\"\" project the vectors in z onto the l2 unit norm ball\"\"\"\n",
    "    #batch = batch.data.numpy()\n",
    "    return batch / np.maximum(np.sqrt(np.sum(batch**2, axis=1))[:, np.newaxis], 1)"
   ]
  },
  {
   "cell_type": "code",
   "execution_count": 44,
   "id": "b777abd1",
   "metadata": {},
   "outputs": [
    {
     "name": "stdout",
     "output_type": "stream",
     "text": [
      "[70000   256]\n"
     ]
    }
   ],
   "source": [
    "pcashape = np.array([pcas.shape[0],pcas.shape[1]])\n",
    "print(pcashape)\n",
    "\n",
    "emb = Embedding(pcas.shape[0],pcas.shape[1])\n",
    "\n",
    "emb.weight = Parameter(torch.from_numpy(pcas))"
   ]
  },
  {
   "cell_type": "code",
   "execution_count": 74,
   "id": "d146e3ef",
   "metadata": {},
   "outputs": [
    {
     "name": "stdout",
     "output_type": "stream",
     "text": [
      "[[ 6.2220193e-02  1.5750600e-01 -4.0514987e-02 ... -5.1203459e-03\n",
      "  -1.5532114e-02 -6.0655794e-04]\n",
      " [-7.6468289e-01 -1.7850460e-01 -6.1979331e-02 ... -4.9483990e-03\n",
      "  -1.6633764e-02  6.8471003e-03]\n",
      " [ 1.6788538e-01  4.5793128e-01  1.5372861e-02 ...  1.2003197e-02\n",
      "   1.2566976e-02  1.6656855e-02]\n",
      " ...\n",
      " [-6.1037832e-01  2.2838928e-01 -2.5696716e-01 ...  1.8297452e-02\n",
      "  -7.3345955e-03 -1.3532773e-02]\n",
      " [ 6.6549873e-01 -4.3335474e-01  2.3682708e-01 ... -9.9552935e-03\n",
      "  -3.6005173e-03 -2.5955804e-02]\n",
      " [ 4.9446678e-01 -1.0982985e-02 -2.4051790e-01 ...  2.7928090e-02\n",
      "   1.5105560e-02 -1.6780788e-02]]\n"
     ]
    }
   ],
   "source": [
    "pcasm = project_l2_ball(pcas)\n",
    "print(pcasm)"
   ]
  },
  {
   "cell_type": "code",
   "execution_count": 46,
   "id": "6d64add7",
   "metadata": {},
   "outputs": [
    {
     "name": "stdout",
     "output_type": "stream",
     "text": [
      "tensor([[ 1.8453e+03,  4.6713e+03, -1.2016e+03,  ..., -1.5186e+02,\n",
      "         -4.6065e+02, -1.7989e+01],\n",
      "        [-1.9505e+04, -4.5531e+03, -1.5809e+03,  ..., -1.2622e+02,\n",
      "         -4.2428e+02,  1.7465e+02],\n",
      "        [ 3.3509e+03,  9.1401e+03,  3.0684e+02,  ...,  2.3958e+02,\n",
      "          2.5083e+02,  3.3246e+02],\n",
      "        ...,\n",
      "        [-1.9640e+04,  4.6972e+03,  1.0447e+04,  ..., -5.1900e+02,\n",
      "          8.8847e+01, -1.0563e+03],\n",
      "        [-1.5104e+04,  7.8618e+03, -2.4396e+03,  ...,  1.9997e+02,\n",
      "          2.4748e+02, -6.4019e+02],\n",
      "        [ 1.8262e+04, -1.0075e+04, -1.7711e+04,  ...,  9.2976e+01,\n",
      "         -2.5791e+02, -1.4400e+02]], dtype=torch.float64,\n",
      "       grad_fn=<SliceBackward0>)\n"
     ]
    }
   ],
   "source": [
    "testBatch = emb.weight[:10,:]\n",
    "print(testBatch)"
   ]
  },
  {
   "cell_type": "code",
   "execution_count": 72,
   "id": "84777581",
   "metadata": {},
   "outputs": [
    {
     "name": "stdout",
     "output_type": "stream",
     "text": [
      "[[ 6.22201942e-02  1.57506004e-01 -4.05149892e-02 ... -5.12034614e-03\n",
      "  -1.55321133e-02 -6.06557912e-04]\n",
      " [-7.64682892e-01 -1.78504587e-01 -6.19793322e-02 ... -4.94839875e-03\n",
      "  -1.66337632e-02  6.84710015e-03]\n",
      " [ 1.67885387e-01  4.57931280e-01  1.53728611e-02 ...  1.20031982e-02\n",
      "   1.25669769e-02  1.66568560e-02]\n",
      " ...\n",
      " [-6.88202503e-01  1.64589397e-01  3.66070425e-01 ... -1.81856367e-02\n",
      "   3.11319540e-03 -3.70111807e-02]\n",
      " [-5.14188708e-01  2.67649519e-01 -8.30534675e-02 ...  6.80768895e-03\n",
      "   8.42533277e-03 -2.17948101e-02]\n",
      " [ 5.35195617e-01 -2.95254051e-01 -5.19057435e-01 ...  2.72478720e-03\n",
      "  -7.55839521e-03 -4.22027946e-03]]\n",
      "tensor([[ 1.8453e+03,  4.6713e+03, -1.2016e+03,  ..., -1.5186e+02,\n",
      "         -4.6065e+02, -1.7989e+01],\n",
      "        [-1.9505e+04, -4.5531e+03, -1.5809e+03,  ..., -1.2622e+02,\n",
      "         -4.2428e+02,  1.7465e+02],\n",
      "        [ 3.3509e+03,  9.1401e+03,  3.0684e+02,  ...,  2.3958e+02,\n",
      "          2.5083e+02,  3.3246e+02],\n",
      "        ...,\n",
      "        [-1.9640e+04,  4.6972e+03,  1.0447e+04,  ..., -5.1900e+02,\n",
      "          8.8847e+01, -1.0563e+03],\n",
      "        [-1.5104e+04,  7.8618e+03, -2.4396e+03,  ...,  1.9997e+02,\n",
      "          2.4748e+02, -6.4019e+02],\n",
      "        [ 1.8262e+04, -1.0075e+04, -1.7711e+04,  ...,  9.2976e+01,\n",
      "         -2.5791e+02, -1.4400e+02]], dtype=torch.float64,\n",
      "       grad_fn=<SliceBackward0>)\n"
     ]
    }
   ],
   "source": [
    "print(project_l2_ball(testBatch))\n",
    "print(testBatch)"
   ]
  },
  {
   "cell_type": "code",
   "execution_count": 56,
   "id": "90be80b3",
   "metadata": {},
   "outputs": [
    {
     "name": "stdout",
     "output_type": "stream",
     "text": [
      "[8.79599309e+08 6.50604813e+08 3.98386372e+08 9.61019926e+08\n",
      " 9.42600229e+08 6.64322978e+08 1.18823011e+09 8.14460300e+08\n",
      " 8.62808594e+08 1.16431924e+09]\n"
     ]
    }
   ],
   "source": [
    "print(np.sum(testBatch.data.numpy()**2, axis=1))"
   ]
  },
  {
   "cell_type": "code",
   "execution_count": 51,
   "id": "ed6246b5",
   "metadata": {},
   "outputs": [
    {
     "name": "stdout",
     "output_type": "stream",
     "text": [
      "tensor([[ 1.8453e+03,  4.6713e+03, -1.2016e+03,  ..., -1.5186e+02,\n",
      "         -4.6065e+02, -1.7989e+01],\n",
      "        [-1.9505e+04, -4.5531e+03, -1.5809e+03,  ..., -1.2622e+02,\n",
      "         -4.2428e+02,  1.7465e+02],\n",
      "        [ 3.3509e+03,  9.1401e+03,  3.0684e+02,  ...,  2.3958e+02,\n",
      "          2.5083e+02,  3.3246e+02],\n",
      "        ...,\n",
      "        [-1.9640e+04,  4.6972e+03,  1.0447e+04,  ..., -5.1900e+02,\n",
      "          8.8847e+01, -1.0563e+03],\n",
      "        [-1.5104e+04,  7.8618e+03, -2.4396e+03,  ...,  1.9997e+02,\n",
      "          2.4748e+02, -6.4019e+02],\n",
      "        [ 1.8262e+04, -1.0075e+04, -1.7711e+04,  ...,  9.2976e+01,\n",
      "         -2.5791e+02, -1.4400e+02]], dtype=torch.float64,\n",
      "       grad_fn=<SliceBackward0>)\n"
     ]
    }
   ],
   "source": [
    "print(testBatch)"
   ]
  },
  {
   "cell_type": "code",
   "execution_count": null,
   "id": "18eef380",
   "metadata": {},
   "outputs": [],
   "source": []
  },
  {
   "cell_type": "code",
   "execution_count": 86,
   "id": "41119b1b",
   "metadata": {},
   "outputs": [
    {
     "name": "stdout",
     "output_type": "stream",
     "text": [
      "[Parameter containing:\n",
      "tensor([[ 1.8453e+03,  4.6713e+03, -1.2016e+03,  ..., -1.5186e+02,\n",
      "         -4.6065e+02, -1.7989e+01],\n",
      "        [-1.9505e+04, -4.5531e+03, -1.5809e+03,  ..., -1.2622e+02,\n",
      "         -4.2428e+02,  1.7465e+02],\n",
      "        [ 3.3509e+03,  9.1401e+03,  3.0684e+02,  ...,  2.3958e+02,\n",
      "          2.5083e+02,  3.3246e+02],\n",
      "        ...,\n",
      "        [-1.0646e+04,  3.9833e+03, -4.4818e+03,  ...,  3.1913e+02,\n",
      "         -1.2792e+02, -2.3603e+02],\n",
      "        [ 2.3867e+04, -1.5541e+04,  8.4933e+03,  ..., -3.5702e+02,\n",
      "         -1.2912e+02, -9.3085e+02],\n",
      "        [ 9.1451e+03, -2.0313e+02, -4.4483e+03,  ...,  5.1653e+02,\n",
      "          2.7938e+02, -3.1036e+02]], dtype=torch.float64, requires_grad=True)]\n"
     ]
    }
   ],
   "source": [
    "print(list(emb.parameters()))"
   ]
  },
  {
   "cell_type": "code",
   "execution_count": 90,
   "id": "49ee39b4",
   "metadata": {},
   "outputs": [
    {
     "name": "stdout",
     "output_type": "stream",
     "text": [
      "tensor([[ 1.8453e+03,  4.6713e+03, -1.2016e+03,  ..., -1.5186e+02,\n",
      "         -4.6065e+02, -1.7989e+01],\n",
      "        [-1.9505e+04, -4.5531e+03, -1.5809e+03,  ..., -1.2622e+02,\n",
      "         -4.2428e+02,  1.7465e+02],\n",
      "        [ 3.3509e+03,  9.1401e+03,  3.0684e+02,  ...,  2.3958e+02,\n",
      "          2.5083e+02,  3.3246e+02],\n",
      "        [ 2.2121e+03, -5.2353e+02, -3.3557e+03,  ...,  8.7392e+01,\n",
      "          2.3326e+02,  5.8971e+01]], dtype=torch.float64,\n",
      "       grad_fn=<EmbeddingBackward0>)\n"
     ]
    }
   ],
   "source": [
    "print(emb(torch.LongTensor([0,1,2,3])))"
   ]
  },
  {
   "cell_type": "code",
   "execution_count": null,
   "id": "23082f2d",
   "metadata": {},
   "outputs": [],
   "source": []
  }
 ],
 "metadata": {
  "kernelspec": {
   "display_name": "Python VariTex",
   "language": "python",
   "name": "varitex"
  },
  "language_info": {
   "codemirror_mode": {
    "name": "ipython",
    "version": 3
   },
   "file_extension": ".py",
   "mimetype": "text/x-python",
   "name": "python",
   "nbconvert_exporter": "python",
   "pygments_lexer": "ipython3",
   "version": "3.8.5"
  }
 },
 "nbformat": 4,
 "nbformat_minor": 5
}
