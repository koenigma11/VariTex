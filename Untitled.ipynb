{
 "cells": [
  {
   "cell_type": "code",
   "execution_count": 1,
   "id": "05b5b6fd",
   "metadata": {},
   "outputs": [],
   "source": [
    "import numpy as np"
   ]
  },
  {
   "cell_type": "code",
   "execution_count": 4,
   "id": "7bb2adc5",
   "metadata": {},
   "outputs": [],
   "source": [
    "pcalatentpath = \"/home/matthias/ETH/Thesis/VariTexLocal/datasets/pcaLatents.npy\"\n",
    "pcas = np.load(pcalatentpath)"
   ]
  },
  {
   "cell_type": "code",
   "execution_count": 5,
   "id": "b3e49d79",
   "metadata": {},
   "outputs": [
    {
     "name": "stdout",
     "output_type": "stream",
     "text": [
      "(70000, 256)\n"
     ]
    }
   ],
   "source": [
    "print(pcas.shape)"
   ]
  },
  {
   "cell_type": "code",
   "execution_count": null,
   "id": "8360f65a",
   "metadata": {},
   "outputs": [],
   "source": []
  }
 ],
 "metadata": {
  "kernelspec": {
   "display_name": "Python VariTex",
   "language": "python",
   "name": "varitex"
  },
  "language_info": {
   "codemirror_mode": {
    "name": "ipython",
    "version": 3
   },
   "file_extension": ".py",
   "mimetype": "text/x-python",
   "name": "python",
   "nbconvert_exporter": "python",
   "pygments_lexer": "ipython3",
   "version": "3.8.5"
  }
 },
 "nbformat": 4,
 "nbformat_minor": 5
}
