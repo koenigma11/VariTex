{
 "cells": [
  {
   "cell_type": "code",
   "execution_count": 1,
   "metadata": {},
   "outputs": [
    {
     "name": "stdout",
     "output_type": "stream",
     "text": [
      "env: OP=/home/matthias/ETH/Thesis/VariTexLocal/VariTex/outputFolder/\n",
      "env: FP=/home/matthias/ETH/Thesis/VariTexLocal/datasets/\n",
      "env: DP=/home/matthias/ETH/Thesis/Data/\n",
      "env: CP=/home/matthias/ETH/Thesis/VariTexLocal/VariTex/pretrained/ep44.ckpt\n"
     ]
    }
   ],
   "source": [
    "import os \n",
    "import sys \n",
    "from tqdm import tqdm\n",
    "import numpy as np\n",
    "from sklearn.decomposition import PCA, IncrementalPCA\n",
    "import argparse\n",
    "\n",
    "platform = \"local\"\n",
    "if(platform==\"local\"):\n",
    "    sys.path.append('/home/matthias/ETH/Thesis/VariTexLocal/VariTex/')\n",
    "    %set_env OP=/home/matthias/ETH/Thesis/VariTexLocal/VariTex/outputFolder/\n",
    "    %set_env FP=/home/matthias/ETH/Thesis/VariTexLocal/datasets/\n",
    "    %set_env DP=/home/matthias/ETH/Thesis/Data/\n",
    "    %set_env CP=/home/matthias/ETH/Thesis/VariTexLocal/VariTex/pretrained/ep44.ckpt\n",
    "elif(platform==\"cluster\"):\n",
    "    %set_env OP=/cluster/project/infk/hilliges/koenigma/VariTex/outputFolder/\n",
    "    %set_env FP=/cluster/project/infk/hilliges/koenigma/VariTex/\n",
    "    %set_env DP=/cluster/work/hilliges/shared/face_datasets/\n",
    "    %set_env CP=/cluster/project/infk/hilliges/koenigma/VariTex/pretrained/ep44.ckpt\n",
    "    sys.path.append('/cluster/project/infk/hilliges/koenigma/VariTex/')"
   ]
  },
  {
   "cell_type": "code",
   "execution_count": 3,
   "metadata": {},
   "outputs": [],
   "source": [
    "def fit_pca_in_dataloader(dataLoader, target_dir, n_pca, latent_dim):\n",
    "    X_pca = np.vstack([\n",
    "            X.cpu().numpy().reshape(len(X), -1)\n",
    "            for i, (X, _)\n",
    "             in zip(tqdm(range(n_pca // dataLoader.batch_size), 'collect data for PCA'), \n",
    "                    dataLoader)\n",
    "        ])\n",
    "    pca = PCA(n_components=latent_dim)\n",
    "    pca.fit(X_pca)\n",
    "    Z = np.empty((len(dataLoader.dataset), latent_dim))\n",
    "    for X, idx in tqdm(dataLoader, 'pca projection'):\n",
    "        Z[idx] = pca.transform(X.cpu().numpy().reshape(len(X), -1))\n",
    "    np.save(target_dir, Z)\n",
    "\n",
    "def fit_pca_in_npy_file(source_file, target_dir, n_pca, latent_dim):\n",
    "    images = np.load(source_file, mmap_mode='r')\n",
    "    images_pca = np.vstack([x.reshape(((x).size)) for x in images[:n_pca]])\n",
    "    pca = PCA(n_components=latent_dim)\n",
    "    pca.fit(images_pca)\n",
    "    Z = np.empty((len(images), latent_dim))\n",
    "    for idx, X in tqdm(zip(range(len(images)), images), 'pca projection', total=len(images)):\n",
    "        Z[idx] = pca.transform(X.reshape(1,(X).size))\n",
    "    np.save(target_dir, Z)\n",
    "    "
   ]
  },
  {
   "cell_type": "code",
   "execution_count": 5,
   "metadata": {},
   "outputs": [],
   "source": [
    "#This functions fits a pca to a dataset at location and saves the latentcodes in target_dir\n",
    "def fit_pca_transform_to_npy(source_file, target_dir, n_pca, latent_dim, dataLoader):\n",
    "    if(dataLoader=='DataLoader'):\n",
    "        fit_pca_in_dataloader(source_file, target_dir, n_pca, latent_dim)\n",
    "    elif(dataLoader=='NumpyFile'):\n",
    "        fit_pca_in_npy_file(source_file, target_dir, n_pca, latent_dim)\n",
    "    else:\n",
    "        print('Argument dataLoader needs to be either \"DataLoader\" or \"NumpyFile\"')"
   ]
  },
  {
   "cell_type": "code",
   "execution_count": 6,
   "metadata": {},
   "outputs": [
    {
     "ename": "SyntaxError",
     "evalue": "invalid syntax (3277810445.py, line 1)",
     "output_type": "error",
     "traceback": [
      "\u001b[0;36m  File \u001b[0;32m\"/tmp/ipykernel_33334/3277810445.py\"\u001b[0;36m, line \u001b[0;32m1\u001b[0m\n\u001b[0;31m    source_file =\u001b[0m\n\u001b[0m                  ^\u001b[0m\n\u001b[0;31mSyntaxError\u001b[0m\u001b[0;31m:\u001b[0m invalid syntax\n"
     ]
    }
   ],
   "source": [
    "source_file = \n",
    "target_dir = 'latentparams'\n",
    "n_pca = 100\n",
    "latent_dim = 10\n",
    "fit_pca_transform_to_npy(source_file, target_dir, n_pca, latent_dim, dataLoader)"
   ]
  },
  {
   "cell_type": "code",
   "execution_count": null,
   "metadata": {},
   "outputs": [],
   "source": [
    "parser = argparse.ArgumentParser()\n",
    "args = parser.parse_args()"
   ]
  }
 ],
 "metadata": {
  "kernelspec": {
   "display_name": "gloKernel",
   "language": "python",
   "name": "glokernel"
  },
  "language_info": {
   "codemirror_mode": {
    "name": "ipython",
    "version": 3
   },
   "file_extension": ".py",
   "mimetype": "text/x-python",
   "name": "python",
   "nbconvert_exporter": "python",
   "pygments_lexer": "ipython3",
   "version": "3.9.5"
  }
 },
 "nbformat": 4,
 "nbformat_minor": 4
}
