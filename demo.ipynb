{
 "cells": [
  {
   "cell_type": "markdown",
   "metadata": {},
   "source": [
    "# VariTex Demo\n",
    "This notebook is about [Varitex: Variational Neural Face Textures](https://arxiv.org/pdf/2104.05988.pdf) ([ICCV 2021](https://iccv2021.thecvf.com/)). For more information, please visit the [project page](https://mcbuehler.github.io/VariTex/).\n",
    "\n",
    "![](https://ait.ethz.ch/people/buehler/public/varitex/teaser.png)"
   ]
  },
  {
   "cell_type": "markdown",
   "metadata": {},
   "source": [
    "## Preparation\n",
    "Please follow the instructions in the [README](https://github.com/mcbuehler/VariTex/blob/main/README.md) and download the following files:\n",
    "- [ ] the model [checkpoint](https://ait.ethz.ch/people/buehler/public/varitex/pretrained.zip)\n",
    "- [ ] the preprocessed [dataset](https://ait.ethz.ch/people/buehler/public/varitex/dataset_preprocessed.zip)\n",
    "- [ ] the [Basel Face Model](https://faces.dmi.unibas.ch/bfm/bfm2017.html)\n",
    "- [ ] the Basel Face Model [UV parameterization](https://github.com/unibas-gravis/parametric-face-image-generator/blob/master/data/regions/face12.json). \n",
    "\n"
   ]
  },
  {
   "cell_type": "code",
   "execution_count": 1,
   "metadata": {},
   "outputs": [
    {
     "name": "stderr",
     "output_type": "stream",
     "text": [
      "Global seed set to 1234\n"
     ]
    },
    {
     "name": "stdout",
     "output_type": "stream",
     "text": [
      "Loading BFM 2017 into GPU... (this can take a while)\n",
      "Done\n"
     ]
    }
   ],
   "source": [
    "%load_ext autoreload\n",
    "%autoreload 2\n",
    "import os\n",
    "import sys\n",
    "import warnings\n",
    "warnings.filterwarnings('ignore')\n",
    "import pytorch_lightning as pl\n",
    "import torch\n",
    "import numpy as np\n",
    "from varitex.data.keys_enum import DataItemKey as DIK\n",
    "pl.seed_everything(1234)\n",
    "from mutil.object_dict import ObjectDict\n",
    "opt = {\n",
    "        #\"checkpoint\": os.path.join(os.getenv(\"CP\", \"pretrained/ep44.ckpt\")),\n",
    "        \"checkpoint\": '/home/matthias/ETH/Thesis/VariTexLocal/output/forDemo/1vc1xbec/checkpoints/epoch=43-step=377079.ckpt',\n",
    "        \"dataroot_npy\": os.path.join(os.getenv(\"DP\", \"\"), 'FFHQ/preprocessed_dataset_new'),\n",
    "        \"path_bfm\": os.path.join(os.getenv(\"FP\", \"\"), \"basel_facemodel/model2017-1_face12_nomouth.h5\"),\n",
    "        \"path_uv\": os.path.join(os.getenv(\"FP\", \"\"), \"basel_facemodel/face12.json\"),\n",
    "        \"device\": \"cuda\"\n",
    "        }\n",
    "\n",
    "path_latent = os.path.join(os.getenv(\"DP\"), \"FFHQ/preprocessed_dataset_new/latents.npy\")\n",
    "\n",
    "from varitex.demo import Demo\n",
    "demo = Demo(opt)"
   ]
  },
  {
   "cell_type": "markdown",
   "metadata": {},
   "source": [
    "### Loading Latent Distributions\n",
    "The variables `latent_mean` and `latent_std` contain the mean and standard deviations of all samples from the holdout set, predicted by the encoder. You can choose the index of the distribution that you want to render, or you can sample from these distributions.\n",
    "\n",
    "\n",
    "Example indices from the holdout set used the [paper](https://arxiv.org/pdf/2104.05988.pdf):\n",
    "* [Teaser image](https://ait.ethz.ch/people/buehler/public/varitex/teaser.png) (Fig. 1): 184 (female), 33 (male).\n",
    "* Fig. 3: 8 (Identity 1), 904 (identity 2).\n",
    "* Fig. 5: Sampled from distributions 184, 148, 313, 319."
   ]
  },
  {
   "cell_type": "code",
   "execution_count": null,
   "metadata": {},
   "outputs": [],
   "source": [
    "latent_distributions = np.load(path_latent)\n",
    "latent_mean = torch.Tensor(latent_distributions[:,0])\n",
    "latent_std = torch.Tensor(latent_distributions[:,1])\n",
    "print(\"{} distributions loaded.\".format(latent_mean.shape[0]))"
   ]
  },
  {
   "cell_type": "markdown",
   "metadata": {},
   "source": [
    "# VariTex Controls\n",
    "\n",
    "![](https://ait.ethz.ch/people/buehler/public/varitex/varitex_pipeline_inference.png)\n",
    "\n",
    "The generator $G$ provides\n",
    "    a) __neural control__ over identity and appearance via a latent code `z` (consisting of two parts $z_{face}$ and $z_{additive}$) and \n",
    "    b) __graphical control__ over geometry (shape `sp`, expression `ep`, and pose `R`) via the parameters of a 3D morphable face model. For simplicity, let's define the pose as euler angles `theta` ($\\theta$).\n",
    "    \n",
    "$$G (z, sp, ep, R(\\theta))$$\n",
    "\n",
    "* `z` $\\in \\mathbb{R}^{256}$: Latent identity code.\n",
    "* `sp` $\\in \\mathbb{R}^{199}$ and `ep` $\\in \\mathbb{R}^{100}$: Shape and expression coefficients of the Basel Face Model. They define the geometry of the rendered face. Zeros yield a neutral face.\n",
    "* `theta` $\\in \\mathbb{R}^3$: Pose in euler angles (degrees). Zeros yield a frontal face."
   ]
  },
  {
   "cell_type": "markdown",
   "metadata": {},
   "source": [
    "## Graphical Control: Pose and Expression"
   ]
  },
  {
   "cell_type": "markdown",
   "metadata": {},
   "source": [
    "### Shape and Expression\n",
    "We load shape `sp` and expression `ep` coefficients from the FFHQ validation set. Choose any other index to load different shapes and expressions from the validation set. These parameters could also be sampled from the Basel Face Model.\n",
    "\n",
    "Change the indices for `sp` and `ep` to modify the facial expression, and shape."
   ]
  },
  {
   "cell_type": "code",
   "execution_count": 121,
   "metadata": {},
   "outputs": [
    {
     "name": "stdout",
     "output_type": "stream",
     "text": [
      "[[ 0.57264992  0.78690823 -0.65627975 ... -1.12582659  0.69433851\n",
      "   0.07697137]\n",
      " [ 1.07559986 -0.96617753  2.23156494 ...  0.96549047  2.38517306\n",
      "   1.01474535]\n",
      " [ 0.29376132 -0.28914179  0.55196887 ... -0.26912242  0.34646604\n",
      "  -1.81236727]\n",
      " ...\n",
      " [-0.86472102 -0.3656655   0.41394388 ... -1.06711965 -0.84583026\n",
      "   1.07137715]\n",
      " [ 0.4655605   0.85894467  1.99247291 ... -0.19033751  0.22206708\n",
      "  -1.34330748]\n",
      " [ 0.71943483  0.33270228 -0.02383506 ... -1.93398266 -0.7248826\n",
      "   0.03252194]]\n"
     ]
    }
   ],
   "source": [
    "t = np.random.randn(100,256)\n",
    "print(t)"
   ]
  },
  {
   "cell_type": "code",
   "execution_count": 130,
   "metadata": {},
   "outputs": [
    {
     "name": "stdout",
     "output_type": "stream",
     "text": [
      "(100, 256)\n",
      "[ 5.72649921e-01  1.07559986e+00  2.93761324e-01  9.96183227e-01\n",
      "  1.14482641e+00 -8.52336201e-01  6.79860990e-01  6.67778523e-01\n",
      "  5.18076907e-01  4.06387715e-01 -1.83104391e+00 -9.52059047e-01\n",
      " -8.40044139e-01  2.88037695e-01 -7.29229825e-01 -1.88184395e-01\n",
      " -1.20609935e+00  1.12388984e+00 -1.70783470e+00  1.70502417e+00\n",
      "  2.23780377e+00 -1.79638595e+00 -7.38231122e-01 -1.39943649e+00\n",
      "  9.40599177e-01 -7.39043477e-01 -6.21086045e-01 -1.01025497e+00\n",
      "  6.21419598e-02  4.76037182e-01 -8.03228828e-01 -6.45984666e-02\n",
      " -1.60408999e-01  2.62691327e-01  9.38488745e-01 -6.55363632e-01\n",
      "  1.28988123e+00  1.53389398e-01  1.13981269e+00  1.11319650e+00\n",
      " -2.62842627e-02 -6.66650526e-01  3.70992567e-01  1.28324664e+00\n",
      " -1.17704165e-01 -9.58330667e-01  1.98458910e+00 -1.22933384e-01\n",
      "  1.11859341e+00  1.77646985e-01 -1.32703000e-01 -1.44425428e-02\n",
      " -9.25824661e-01 -1.06942246e-01 -1.59168365e+00  3.23819886e-02\n",
      " -5.18067496e-01  5.67166659e-01  6.21115961e-02 -1.89258366e+00\n",
      "  5.13689038e-01 -3.15400928e-01  3.21380515e-02 -6.41994525e-01\n",
      " -7.32372820e-01  7.65695225e-01  1.13310730e+00 -1.45798066e+00\n",
      "  9.09583596e-01 -1.16516783e+00 -9.04724808e-01 -1.06821617e+00\n",
      " -1.15714373e+00  1.70237846e-03 -5.60555396e-01  1.57621827e+00\n",
      " -4.19734366e-01 -3.69831546e-01  1.31166528e+00 -9.62838246e-02\n",
      " -2.31007042e-01 -7.99352239e-01 -6.32730888e-01  6.95240705e-02\n",
      "  1.47199988e+00 -2.96890644e-01 -2.38871011e-01  2.67353604e+00\n",
      " -5.13058154e-01 -6.37290560e-01 -5.52590418e-01  7.94059320e-01\n",
      " -1.16592186e-01  7.72032964e-01 -7.05565052e-02 -2.90727600e-01\n",
      " -1.13221098e+00 -8.64721019e-01  4.65560497e-01  7.19434826e-01]\n",
      "[ 5.72649921e-01  1.07559986e+00  2.93761324e-01  9.96183227e-01\n",
      "  1.14482641e+00 -8.52336201e-01  6.79860990e-01  6.67778523e-01\n",
      "  5.18076907e-01  4.06387715e-01 -1.83104391e+00 -9.52059047e-01\n",
      " -8.40044139e-01  2.88037695e-01 -7.29229825e-01 -1.88184395e-01\n",
      " -1.20609935e+00  1.12388984e+00 -1.70783470e+00  1.70502417e+00\n",
      "  2.23780377e+00 -1.79638595e+00 -7.38231122e-01 -1.39943649e+00\n",
      "  9.40599177e-01 -7.39043477e-01 -6.21086045e-01 -1.01025497e+00\n",
      "  6.21419598e-02  4.76037182e-01 -8.03228828e-01 -6.45984666e-02\n",
      " -1.60408999e-01  2.62691327e-01  9.38488745e-01 -6.55363632e-01\n",
      "  1.28988123e+00  1.53389398e-01  1.13981269e+00  1.11319650e+00\n",
      " -2.62842627e-02 -6.66650526e-01  3.70992567e-01  1.28324664e+00\n",
      " -1.17704165e-01 -9.58330667e-01  1.98458910e+00 -1.22933384e-01\n",
      "  1.11859341e+00  1.77646985e-01 -1.32703000e-01 -1.44425428e-02\n",
      " -9.25824661e-01 -1.06942246e-01 -1.59168365e+00  3.23819886e-02\n",
      " -5.18067496e-01  5.67166659e-01  6.21115961e-02 -1.89258366e+00\n",
      "  5.13689038e-01 -3.15400928e-01  3.21380515e-02 -6.41994525e-01\n",
      " -7.32372820e-01  7.65695225e-01  1.13310730e+00 -1.45798066e+00\n",
      "  9.09583596e-01 -1.16516783e+00 -9.04724808e-01 -1.06821617e+00\n",
      " -1.15714373e+00  1.70237846e-03 -5.60555396e-01  1.57621827e+00\n",
      " -4.19734366e-01 -3.69831546e-01  1.31166528e+00 -9.62838246e-02\n",
      " -2.31007042e-01 -7.99352239e-01 -6.32730888e-01  6.95240705e-02\n",
      "  1.47199988e+00 -2.96890644e-01 -2.38871011e-01  2.67353604e+00\n",
      " -5.13058154e-01 -6.37290560e-01 -5.52590418e-01  7.94059320e-01\n",
      " -1.16592186e-01  7.72032964e-01 -7.05565052e-02 -2.90727600e-01\n",
      " -1.13221098e+00 -8.64721019e-01  4.65560497e-01  7.19434826e-01]\n"
     ]
    }
   ],
   "source": [
    "b = np.concatenate([t[:,:128],t[:,:128]],axis=1)\n",
    "print(b.shape)\n",
    "print(b[:,0])\n",
    "print(b[:,128])"
   ]
  },
  {
   "cell_type": "code",
   "execution_count": 6,
   "metadata": {},
   "outputs": [],
   "source": [
    "from torch.nn.functional import normalize as normalizeT"
   ]
  },
  {
   "cell_type": "code",
   "execution_count": 2,
   "metadata": {},
   "outputs": [],
   "source": [
    "allZs = np.load(getattr(demo.opt, \"pca_file\"),'r')"
   ]
  },
  {
   "cell_type": "code",
   "execution_count": 11,
   "metadata": {},
   "outputs": [
    {
     "name": "stdout",
     "output_type": "stream",
     "text": [
      "tensor([1.0000])\n",
      "torch.Size([1, 256])\n"
     ]
    }
   ],
   "source": [
    "\n",
    "print(torch.linalg.norm(z,axis=1))\n",
    "print(z.shape)"
   ]
  },
  {
   "cell_type": "code",
   "execution_count": 94,
   "metadata": {},
   "outputs": [
    {
     "data": {
      "image/png": "[encoded data removed]",
      "text/plain": [
       "<PIL.Image.Image image mode=RGB size=128x128 at 0x7FD9AC5C9430>"
      ]
     },
     "execution_count": 94,
     "metadata": {},
     "output_type": "execute_result"
    }
   ],
   "source": [
    "z = torch.div(normalizeT(torch.randn(256),dim=0).unsqueeze(0),0.35)\n",
    "batch_out = demo.runGlo(z=z, sp=sp, ep=ep, theta=theta)\n",
    "demo.to_image(batch_out)"
   ]
  },
  {
   "cell_type": "code",
   "execution_count": 86,
   "metadata": {
    "scrolled": true
   },
   "outputs": [
    {
     "name": "stdout",
     "output_type": "stream",
     "text": [
      "Norm:  tensor([17.1472])\n"
     ]
    },
    {
     "data": {
      "image/png": "[encoded data removed]",
      "text/plain": [
       "<PIL.Image.Image image mode=RGB size=128x128 at 0x7FDA18168C70>"
      ]
     },
     "execution_count": 86,
     "metadata": {},
     "output_type": "execute_result"
    }
   ],
   "source": [
    "shapes, expressions = demo.load_shape_expressions()\n",
    "index_id, index_sp, index_ep = 184, 184, 184\n",
    "sp = shapes[index_sp].unsqueeze(0)\n",
    "ep = expressions[index_ep].unsqueeze(0)\n",
    "\n",
    "theta = torch.Tensor((0,-35,0))\n",
    "#z = torch.from_numpy(allZs[index_id].astype(np.single)).unsqueeze(0)\n",
    "#z = normalizeT(torch.randn(256),dim=0).unsqueeze(0)\n",
    "z = (torch.randn(256)).unsqueeze(0)\n",
    "print(\"Norm: \",torch.linalg.norm(z,axis=1))\n",
    "batch_out = demo.runGlo(z=z, sp=sp, ep=ep, theta=theta)\n",
    "demo.to_image(batch_out)"
   ]
  },
  {
   "cell_type": "code",
   "execution_count": 99,
   "metadata": {},
   "outputs": [
    {
     "name": "stdout",
     "output_type": "stream",
     "text": [
      "Norm:  tensor([0.])\n"
     ]
    },
    {
     "data": {
      "image/png": "[encoded data removed]",
      "text/plain": [
       "<PIL.Image.Image image mode=RGB size=128x128 at 0x7FD9AC5DB4C0>"
      ]
     },
     "execution_count": 99,
     "metadata": {},
     "output_type": "execute_result"
    }
   ],
   "source": [
    "z = (torch.zeros(256)).unsqueeze(0)\n",
    "print(\"Norm: \",torch.linalg.norm(z,axis=1))\n",
    "batch_out = demo.runGlo(z=z, sp=sp, ep=ep, theta=theta)\n",
    "demo.to_image(batch_out)"
   ]
  },
  {
   "cell_type": "code",
   "execution_count": null,
   "metadata": {},
   "outputs": [],
   "source": [
    "index_id, index_sp, index_ep = 184, 184, 184\n",
    "\n",
    "shapes, expressions = demo.load_shape_expressions()\n",
    "sp = shapes[index_sp].unsqueeze(0)\n",
    "ep = expressions[index_ep].unsqueeze(0)\n",
    "\n",
    "z = latent_mean[index_id].unsqueeze(0)\n",
    "theta = torch.Tensor((0,-35,0))\n",
    "\n",
    "batch_out = demo.run(z=z, sp=sp, ep=ep, theta=theta)\n",
    "demo.to_image(batch_out)"
   ]
  },
  {
   "cell_type": "markdown",
   "metadata": {},
   "source": [
    "Running multiple expressions..."
   ]
  },
  {
   "cell_type": "code",
   "execution_count": null,
   "metadata": {},
   "outputs": [],
   "source": [
    "ep_indices = list(range(5))\n",
    "batches_out = [demo.run(z=z, sp=sp, ep=expressions[ep_index].unsqueeze(0), theta=theta) for ep_index in ep_indices]\n",
    "demo.to_image(batches_out)"
   ]
  },
  {
   "cell_type": "markdown",
   "metadata": {},
   "source": [
    "### Pose\n",
    "Pose can be defined as euler axes (degrees) `theta=(pitch, yaw, roll)`. \n",
    "\n",
    "* pitch > 0 $\\rightarrow$ looking up\n",
    "* yaw > 0 $\\rightarrow$ looking left\n",
    "* roll > 0 $\\rightarrow$ rotate clockwise"
   ]
  },
  {
   "cell_type": "code",
   "execution_count": null,
   "metadata": {},
   "outputs": [],
   "source": [
    "theta = torch.Tensor((-15, -20, 0))\n",
    "\n",
    "batch_out = demo.run(z=z, sp=sp, ep=ep, theta=theta)\n",
    "demo.to_image(batch_out)"
   ]
  },
  {
   "cell_type": "code",
   "execution_count": null,
   "metadata": {},
   "outputs": [],
   "source": [
    "theta_all = [torch.Tensor((0, -t, 0)) for t in \n",
    "             np.arange(0, 46, 15)]\n",
    "\n",
    "batches_out = [demo.run(z=z, sp=sp, ep=ep, theta=t) for t in theta_all]\n",
    "demo.to_image(batches_out)"
   ]
  },
  {
   "cell_type": "markdown",
   "metadata": {},
   "source": [
    "## Neural Control: Identity"
   ]
  },
  {
   "cell_type": "markdown",
   "metadata": {},
   "source": [
    "### Sampling\n",
    "VariTex controls identity via a latent code `z`. You can generate variants of this identity by resampling the latent code. Execute the cell below multiple times to see different outcomes.\n",
    "\n",
    "You can change the variable `multiplier` to sample in more/less extreme regions of the learned distribution."
   ]
  },
  {
   "cell_type": "code",
   "execution_count": null,
   "metadata": {},
   "outputs": [],
   "source": [
    "index = 184\n",
    "multiplier = 1.5\n",
    "n_samples = 5\n",
    "z_list = torch.distributions.Normal(latent_mean[index].clone(), latent_std[index].clone() * multiplier).rsample((n_samples,)) \n",
    "theta = torch.Tensor((0, 0, 0))\n",
    "\n",
    "batches_out = [demo.run(z=z_l.unsqueeze(0), sp=sp, ep=ep, theta=theta) for z_l in z_list]\n",
    "demo.to_image(batches_out)"
   ]
  },
  {
   "cell_type": "markdown",
   "metadata": {},
   "source": [
    "### Interpolation\n",
    "Interpolation between two latent codes smoothly transitions from one identity to another."
   ]
  },
  {
   "cell_type": "code",
   "execution_count": null,
   "metadata": {},
   "outputs": [],
   "source": [
    "from mutil.np_util import interpolation\n",
    "n_samples = 5\n",
    "indexA, indexB = 313, 184\n",
    "\n",
    "zA, zB = latent_mean[indexA], latent_mean[indexB]\n",
    "z_interpolated = torch.Tensor(interpolation(n_samples, zA.numpy(), zB.numpy()))\n",
    "\n",
    "batches_out = [demo.run(z=z.unsqueeze(0), sp=sp, ep=ep, theta=theta) for z in z_interpolated]\n",
    "demo.to_image(batches_out)"
   ]
  }
 ],
 "metadata": {
  "kernelspec": {
   "display_name": "Python VariTex",
   "language": "python",
   "name": "varitex"
  },
  "language_info": {
   "codemirror_mode": {
    "name": "ipython",
    "version": 3
   },
   "file_extension": ".py",
   "mimetype": "text/x-python",
   "name": "python",
   "nbconvert_exporter": "python",
   "pygments_lexer": "ipython3",
   "version": "3.8.5"
  }
 },
 "nbformat": 4,
 "nbformat_minor": 5
}
